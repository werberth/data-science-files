{
 "cells": [
  {
   "cell_type": "markdown",
   "metadata": {},
   "source": [
    "#### Antes de carregar um banco de dados SQLite, é necessário primeiramente importar a classe `DB` do modulo `db` (esse módulo é uma biblioteca de terceiros e deve ser instalada utilizando o comando `pip install db.py`"
   ]
  },
  {
   "cell_type": "code",
   "execution_count": 1,
   "metadata": {},
   "outputs": [],
   "source": [
    "from db import DB"
   ]
  },
  {
   "cell_type": "markdown",
   "metadata": {},
   "source": [
    "### Loading a SQLite database"
   ]
  },
  {
   "cell_type": "code",
   "execution_count": 4,
   "metadata": {
    "scrolled": true
   },
   "outputs": [
    {
     "name": "stderr",
     "output_type": "stream",
     "text": [
      "Indexing schema. This will take a second...finished!\n"
     ]
    }
   ],
   "source": [
    "# Para carregar o banco, é necessário instanciar a classe DB, passando \n",
    "# dois parametros. O primeiro é o \"filename\" que corresponde ao \n",
    "# path (string) do arquivo sqlite3, e o segundo parametro chamado \n",
    "# \"dbtype\" se refere a ao tipo do banco, que nesse caso é 'sqlite'\n",
    "# (string que representa o banco SQLite).\n",
    "\n",
    "database = DB(filename='resources/logs.sqlite3', dbtype='sqlite')"
   ]
  },
  {
   "cell_type": "code",
   "execution_count": null,
   "metadata": {},
   "outputs": [],
   "source": []
  }
 ],
 "metadata": {
  "kernelspec": {
   "display_name": "Python 3",
   "language": "python",
   "name": "python3"
  },
  "language_info": {
   "codemirror_mode": {
    "name": "ipython",
    "version": 3
   },
   "file_extension": ".py",
   "mimetype": "text/x-python",
   "name": "python",
   "nbconvert_exporter": "python",
   "pygments_lexer": "ipython3",
   "version": "3.5.4rc1"
  }
 },
 "nbformat": 4,
 "nbformat_minor": 2
}
